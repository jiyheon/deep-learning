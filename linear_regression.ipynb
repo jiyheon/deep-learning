{
  "nbformat": 4,
  "nbformat_minor": 0,
  "metadata": {
    "colab": {
      "name": "linear regression.ipynb",
      "provenance": [],
      "collapsed_sections": []
    },
    "kernelspec": {
      "name": "python3",
      "display_name": "Python 3"
    },
    "language_info": {
      "name": "python"
    }
  },
  "cells": [
    {
      "cell_type": "code",
      "source": [
        "X = list(range(10))\n",
        "Y = [ 1, 1, 2, 4, 5, 7, 8, 9, 9, 10]\n",
        "print(len(Y))\n",
        "\n",
        "print(X)"
      ],
      "metadata": {
        "colab": {
          "base_uri": "https://localhost:8080/"
        },
        "id": "VklsPIpfTTNg",
        "outputId": "af587f59-6bcb-49c8-c5aa-16d4723689ce"
      },
      "execution_count": null,
      "outputs": [
        {
          "output_type": "stream",
          "name": "stdout",
          "text": [
            "10\n",
            "[0, 1, 2, 3, 4, 5, 6, 7, 8, 9]\n"
          ]
        }
      ]
    },
    {
      "cell_type": "code",
      "source": [
        "import matplotlib.pyplot as plt\n",
        "\n",
        "plt.scatter(X, Y)"
      ],
      "metadata": {
        "colab": {
          "base_uri": "https://localhost:8080/",
          "height": 283
        },
        "id": "GPAQgA09UbJz",
        "outputId": "3536b63d-92d1-4e55-f90e-1004bddeb4e8"
      },
      "execution_count": null,
      "outputs": [
        {
          "output_type": "execute_result",
          "data": {
            "text/plain": [
              "<matplotlib.collections.PathCollection at 0x7f95a5a9cb90>"
            ]
          },
          "metadata": {},
          "execution_count": 12
        },
        {
          "output_type": "display_data",
          "data": {
            "text/plain": [
              "<Figure size 432x288 with 1 Axes>"
            ],
            "image/png": "[encoded data removed]"
          },
          "metadata": {
            "needs_background": "light"
          }
        }
      ]
    },
    {
      "cell_type": "code",
      "source": [
        "class H():\n",
        "\n",
        "  def __init__(self, w):\n",
        "    self.w = w\n",
        "\n",
        "  def forward(self, x):\n",
        "    return self.w * x\n",
        "\n",
        "def cost(h, X, Y) :\n",
        "  error = 0\n",
        "  for i in range(len(X)) : \n",
        "    error += (h.forward(X[i]) - Y[i])** 2\n",
        "  error = error / len(X)\n",
        "  return error\n",
        "\n",
        "h = H(4)\n",
        "cost(h, X, Y)\n"
      ],
      "metadata": {
        "colab": {
          "base_uri": "https://localhost:8080/"
        },
        "id": "GBT30TyfVEIw",
        "outputId": "187513c2-c362-4c3f-e712-6a9c3fd692a7"
      },
      "execution_count": null,
      "outputs": [
        {
          "output_type": "execute_result",
          "data": {
            "text/plain": [
              "222.2"
            ]
          },
          "metadata": {},
          "execution_count": 19
        }
      ]
    },
    {
      "cell_type": "code",
      "source": [
        "list_w = []\n",
        "list_c = []\n",
        "\n",
        "for i in range(-100, 100):\n",
        "  w = i * 0.1\n",
        "  h = H(w)\n",
        "  c = cost(h, X, Y)\n",
        "  list_w.append(w)\n",
        "  list_c.append(c)\n",
        "\n",
        "plt.figure(figsize = (1,1))\n",
        "plt.xlabel('w')\n",
        "plt.ylabel('cost')\n",
        "plt.scatter(list_w, list_c, s=0.1)"
      ],
      "metadata": {
        "colab": {
          "base_uri": "https://localhost:8080/",
          "height": 134
        },
        "id": "PbRi4ZHfYGGA",
        "outputId": "fe89174f-43ec-42eb-c40e-f34688d3f82e"
      },
      "execution_count": null,
      "outputs": [
        {
          "output_type": "execute_result",
          "data": {
            "text/plain": [
              "<matplotlib.collections.PathCollection at 0x7f95a5673b50>"
            ]
          },
          "metadata": {},
          "execution_count": 33
        },
        {
          "output_type": "display_data",
          "data": {
            "text/plain": [
              "<Figure size 72x72 with 1 Axes>"
            ],
            "image/png": "[encoded data removed]"
          },
          "metadata": {
            "needs_background": "light"
          }
        }
      ]
    },
    {
      "cell_type": "code",
      "source": [
        "def cal_grad(w, cost):\n",
        "  h = H(w)\n",
        "  cost1 = cost(h, X, Y)\n",
        "  eps = 0.00001\n",
        "  h = H(w + eps)\n",
        "  cost2 = cost(h, X, Y)\n",
        "  dcost = cost2 - cost1\n",
        "  dw = eps\n",
        "  grad = dcost / dw\n",
        "  return grad, (cost1+cost2)*0.5\n",
        "\n",
        "def cal_grad2(w, cost):\n",
        "  h = H(w)\n",
        "  grad = 0\n",
        "  for i in range(len(X)):\n",
        "    grad += 2 * (h.forward(X[i]) - Y[i]) * X[i]\n",
        "  grad = grad / len(X)\n",
        "  c = cost(h, X, Y)\n",
        "  return grad, c\n",
        "\n",
        "w1 = 1.4\n",
        "w2 = 1.4\n",
        "lr = 0.01\n",
        "\n",
        "list_w1 = []\n",
        "list_c1 = []\n",
        "list_w2 = []\n",
        "list_c2 = []\n",
        "\n",
        "for i in range(10):\n",
        "  grad, mean_cost = cal_grad(w1, cost)\n",
        "  grad2, mean_cost2 = cal_grad2(w2, cost)\n",
        "\n",
        "  w1 -= lr * grad\n",
        "  w2 -= lr * grad2\n",
        "  list_w1.append(w1)\n",
        "  list_c1.append(mean_cost)\n",
        "  list_w2.append(w2)\n",
        "  list_c2.append(mean_cost2)\n",
        "  # print(w1, mean_cost, w2, mean_cost2)\n",
        "\n",
        "plt.scatter(list_w1, list_c1)\n",
        "plt.scatter(list_w2, list_c2)\n"
      ],
      "metadata": {
        "colab": {
          "base_uri": "https://localhost:8080/",
          "height": 283
        },
        "id": "jvt9ri69bd3D",
        "outputId": "c73a46fe-79a0-4360-ff22-ced7398b7793"
      },
      "execution_count": null,
      "outputs": [
        {
          "output_type": "execute_result",
          "data": {
            "text/plain": [
              "<matplotlib.collections.PathCollection at 0x7f95a5470950>"
            ]
          },
          "metadata": {},
          "execution_count": 59
        },
        {
          "output_type": "display_data",
          "data": {
            "text/plain": [
              "<Figure size 432x288 with 1 Axes>"
            ],
            "image/png": "[encoded data removed]"
          },
          "metadata": {
            "needs_background": "light"
          }
        }
      ]
    }
  ]
}